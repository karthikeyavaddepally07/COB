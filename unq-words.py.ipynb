{
 "cells": [
  {
   "cell_type": "code",
   "execution_count": 1,
   "id": "3d4a223e",
   "metadata": {},
   "outputs": [
    {
     "name": "stdout",
     "output_type": "stream",
     "text": [
      "i: 1\n",
      "am: 1\n",
      "karthikeya: 1\n",
      "vaddepally: 1\n"
     ]
    }
   ],
   "source": [
    "import re\n",
    "from collections import Counter\n",
    "\n",
    "def count_unique_words(file_path):\n",
    "    # Read the text from the file\n",
    "    with open(file_path, 'r') as file:\n",
    "        text = file.read()\n",
    "\n",
    "    # Tokenize the text into words (split by spaces and remove punctuation)\n",
    "    words = re.findall(r'\\w+', text.lower())  # Convert to lowercase for case-insensitivity\n",
    "\n",
    "    # Count the occurrences of each word\n",
    "    word_count = Counter(words)\n",
    "\n",
    "    # Print unique words and their counts\n",
    "    for word, count in word_count.items():\n",
    "        print(f'{word}: {count}')\n",
    "\n",
    "if __name__ == \"__main__\":\n",
    "    file_path = \"C:\\\\Users\\\\karth\\\\OneDrive\\\\Desktop\\\\karthik.txt\"  #assign the file path\n",
    "    count_unique_words(file_path)\n"
   ]
  },
  {
   "cell_type": "code",
   "execution_count": null,
   "id": "af4f0426",
   "metadata": {},
   "outputs": [],
   "source": []
  }
 ],
 "metadata": {
  "kernelspec": {
   "display_name": "Python 3 (ipykernel)",
   "language": "python",
   "name": "python3"
  },
  "language_info": {
   "codemirror_mode": {
    "name": "ipython",
    "version": 3
   },
   "file_extension": ".py",
   "mimetype": "text/x-python",
   "name": "python",
   "nbconvert_exporter": "python",
   "pygments_lexer": "ipython3",
   "version": "3.11.5"
  }
 },
 "nbformat": 4,
 "nbformat_minor": 5
}
